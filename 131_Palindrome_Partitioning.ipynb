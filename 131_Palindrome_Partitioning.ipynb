{
  "nbformat": 4,
  "nbformat_minor": 0,
  "metadata": {
    "colab": {
      "name": "131. Palindrome Partitioning.ipynb",
      "provenance": [],
      "authorship_tag": "ABX9TyM5eQvleQ260bVDMFe2ktSH",
      "include_colab_link": true
    },
    "kernelspec": {
      "name": "python3",
      "display_name": "Python 3"
    },
    "language_info": {
      "name": "python"
    }
  },
  "cells": [
    {
      "cell_type": "markdown",
      "metadata": {
        "id": "view-in-github",
        "colab_type": "text"
      },
      "source": [
        "<a href=\"https://colab.research.google.com/github/Mehul2205/Leetcode-year-2022/blob/main/131_Palindrome_Partitioning.ipynb\" target=\"_parent\"><img src=\"https://colab.research.google.com/assets/colab-badge.svg\" alt=\"Open In Colab\"/></a>"
      ]
    },
    {
      "cell_type": "markdown",
      "source": [
        "# 131. Palindrome Partitioning"
      ],
      "metadata": {
        "id": "FDuUkGhEJ8_4"
      }
    },
    {
      "cell_type": "markdown",
      "source": [
        "Given a string s, partition s such that every substring of the partition is a palindrome. Return all possible palindrome partitioning of s.\n",
        "\n",
        "A palindrome string is a string that reads the same backward as forward."
      ],
      "metadata": {
        "id": "9kTlvZr4J-nT"
      }
    },
    {
      "cell_type": "markdown",
      "source": [
        "## Examples"
      ],
      "metadata": {
        "id": "FqO952o6KBsq"
      }
    },
    {
      "cell_type": "markdown",
      "source": [
        "<pre>\n",
        "Example-1\n",
        "Input: s = \"aab\"\n",
        "Output: [[\"a\",\"a\",\"b\"],[\"aa\",\"b\"]]\n",
        "</pre>\n",
        "\n",
        "<pre>\n",
        "Example-2\n",
        "Input: s = \"a\"\n",
        "Output: [[\"a\"]]\n",
        "</pre>\n",
        "\n",
        "<pre>\n",
        "Example-2\n",
        "Input: s = \"aabab\"\n",
        "Output: [[\"a\",\"a\",\"b\",\"a\",\"b\"],[\"a\",\"a\",\"bab\"],[\"a\",\"aba\",\"b\"],[\"aa\",\"b\",\"a\",\"b\"],[\"aa\",\"bab\"]]\n",
        "</pre>"
      ],
      "metadata": {
        "id": "QlGrwW_bKEJB"
      }
    },
    {
      "cell_type": "markdown",
      "source": [
        "## Code\n",
        "\n",
        "75% Time Optimized\n",
        "22% Memory Optimized"
      ],
      "metadata": {
        "id": "7LHi9PdgKYn1"
      }
    },
    {
      "cell_type": "code",
      "execution_count": 7,
      "metadata": {
        "id": "J6vBm3ZWC-E9"
      },
      "outputs": [],
      "source": [
        "class Solution:\n",
        "    def pallidrome(self, s: str, i: int, j: int):\n",
        "      while( i< j):\n",
        "        if(s[i] != s[j]):\n",
        "          return False\n",
        "        i +=1\n",
        "        j -=1\n",
        "      return True\n",
        "      \n",
        "    def partition(self, s: str):\n",
        "      #Debug\n",
        "      result = []\n",
        "      partialResult = []\n",
        "\n",
        "      def dfs(i):\n",
        "        if(i >= len(s)):\n",
        "          result.append(partialResult.copy())\n",
        "          return\n",
        "        for j in range(i, len(s)):\n",
        "          if(self.pallidrome(s, i, j)):\n",
        "            partialResult.append(s[i:j+1])\n",
        "            dfs(j+1)\n",
        "            partialResult.pop()\n",
        "      \n",
        "      dfs(0)\n",
        "      return result"
      ]
    },
    {
      "cell_type": "code",
      "source": [
        "s = 'aabab'"
      ],
      "metadata": {
        "id": "noMaDm4sKf9_"
      },
      "execution_count": 3,
      "outputs": []
    },
    {
      "cell_type": "code",
      "source": [
        "sol = Solution()\n",
        "print(sol.partition(s))"
      ],
      "metadata": {
        "colab": {
          "base_uri": "https://localhost:8080/"
        },
        "id": "BNwSU4Z1KiMu",
        "outputId": "e0634084-7f50-415c-8ee4-12180484d440"
      },
      "execution_count": 8,
      "outputs": [
        {
          "output_type": "stream",
          "name": "stdout",
          "text": [
            "[['a', 'a', 'b', 'a', 'b'], ['a', 'a', 'bab'], ['a', 'aba', 'b'], ['aa', 'b', 'a', 'b'], ['aa', 'bab']]\n"
          ]
        }
      ]
    },
    {
      "cell_type": "markdown",
      "source": [
        "## Time Optimized Solution"
      ],
      "metadata": {
        "id": "WzxEWc-_wFq8"
      }
    },
    {
      "cell_type": "code",
      "source": [
        "class Solution:\n",
        "    def __init__(self) -> None:\n",
        "        self.polindromes_indexes = {}\n",
        "        self.partitionings_at_index = {}\n",
        "        \n",
        "    def partition(self, s: str):\n",
        "        n = len(s)\n",
        "\n",
        "        # find all polindromes\n",
        "        for i in range(1, n):\n",
        "            if s[i] == s[i-1] or (i-2 >= 0 and s[i] == s[i-2]):\n",
        "                if  s[i] == s[i-1]:\n",
        "                    j = i-1 \n",
        "                    k = i\n",
        "                    while k < n and j >=0 and s[j] == s[k]:\n",
        "                        if j not in self.polindromes_indexes: self.polindromes_indexes[j] = []\n",
        "                        self.polindromes_indexes[j].append(k)\n",
        "                        j -= 1\n",
        "                        k += 1\n",
        "                \n",
        "                if i-2 >= 0 and s[i] == s[i-2]:\n",
        "                    j = i-2 \n",
        "                    k = i\n",
        "                    while k < n and j >=0 and s[j] == s[k]:\n",
        "                        if j not in self.polindromes_indexes: self.polindromes_indexes[j] = []\n",
        "                        self.polindromes_indexes[j].append(k)\n",
        "                        j -= 1\n",
        "                        k += 1\n",
        "       \n",
        "        return self.partition_string(s, 0)\n",
        "\n",
        "\n",
        "    def partition_string(self, str, index):\n",
        "        if index in self.partitionings_at_index: return self.partitionings_at_index[index]\n",
        "\n",
        "        if index == (len(str) -1): return [[str[len(str) -1]]]\n",
        "\n",
        "        partitions = []\n",
        "        if index == (len(str) - 2):\n",
        "            partitions.append([str[index], str[index+1]])\n",
        "        else:\n",
        "            next_paritionings = self.partition_string(str, index+1)\n",
        "            for next_paritioning in next_paritionings:\n",
        "                partitions.append([str[index]] + next_paritioning)\n",
        "\n",
        "        if index in self.polindromes_indexes:\n",
        "            for curr_end_index in self.polindromes_indexes[index]:\n",
        "                if curr_end_index < (len(str) -1):\n",
        "                    polindrome_partitios = [[str[index:curr_end_index+1]]]\n",
        "                    next_paritionings = self.partition_string(str, curr_end_index +1)\n",
        "                           \n",
        "                    for polindrome_partition in polindrome_partitios:\n",
        "                            for next_paritioning in next_paritionings:\n",
        "                                partitions.append(polindrome_partition + next_paritioning)\n",
        "      \n",
        "                else:\n",
        "                    partitions += [[str[index:curr_end_index+1]]] \n",
        "\n",
        "        self.partitionings_at_index[index] = partitions\n",
        "        return partitions\n"
      ],
      "metadata": {
        "id": "fvbUsdA3wFRf"
      },
      "execution_count": null,
      "outputs": []
    },
    {
      "cell_type": "markdown",
      "source": [
        "## Memory Optimized Solution"
      ],
      "metadata": {
        "id": "smnrhxLXwM80"
      }
    },
    {
      "cell_type": "code",
      "source": [
        "class Solution:\n",
        "\tdef partition(self, s: str) -> List[List[str]]:\n",
        "\t\tdp = [[] for _ in range(len(s))]\n",
        "\t\tres = []\n",
        "\t\tdef compute_palindromes(i: int, k:int):\n",
        "\t\t\twhile i>=0 and k < len(s) and s[i] == s[k]:\n",
        "\t\t\t\tdp[i].append(s[i:k+1])\n",
        "\t\t\t\ti -= 1\n",
        "\t\t\t\tk += 1\n",
        "\n",
        "\t\tfor i in range(len(s)):\n",
        "\t\t\tcompute_palindromes(i,i)\n",
        "\t\t\tcompute_palindromes(i,i+1)\n",
        "\t\t\n",
        "\t\tCALL = 0\n",
        "\t\tHANDLE = 1\n",
        "\t\tstack = [(x, CALL) for x in dp[0]]\n",
        "\t\tcur_stack = []\n",
        "\t\tcur_idx = 0\n",
        "\n",
        "\t\twhile stack != []:\n",
        "\t\t\tword, state = stack.pop()\n",
        "\t\t\tif state == CALL:\n",
        "\t\t\t\tstack.append((word,HANDLE))\n",
        "\t\t\t\tcur_stack.append(word)\n",
        "\t\t\t\tcur_idx += len(word)\n",
        "\t\t\t\tif cur_idx == len(s):\n",
        "\t\t\t\t\tres.append(cur_stack.copy())\n",
        "\t\t\t\telse:\n",
        "\t\t\t\t\tfor w in dp[cur_idx]:\n",
        "\t\t\t\t\t\tstack.append((w, CALL))\n",
        "\t\t\telse:\n",
        "\t\t\t\tcur_stack.pop()\n",
        "\t\t\t\tcur_idx -= len(word)\n",
        "\t\treturn res"
      ],
      "metadata": {
        "id": "mZTmgngdwRNL"
      },
      "execution_count": null,
      "outputs": []
    }
  ]
}