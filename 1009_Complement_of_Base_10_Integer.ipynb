{
  "nbformat": 4,
  "nbformat_minor": 0,
  "metadata": {
    "colab": {
      "name": "1009. Complement of Base 10 Integer.ipynb",
      "provenance": [],
      "authorship_tag": "ABX9TyPZfxcO/JGsUkGHW0xS32B/",
      "include_colab_link": true
    },
    "kernelspec": {
      "name": "python3",
      "display_name": "Python 3"
    },
    "language_info": {
      "name": "python"
    }
  },
  "cells": [
    {
      "cell_type": "markdown",
      "metadata": {
        "id": "view-in-github",
        "colab_type": "text"
      },
      "source": [
        "<a href=\"https://colab.research.google.com/github/Mehul2205/Leetcode-year-2022/blob/main/1009_Complement_of_Base_10_Integer.ipynb\" target=\"_parent\"><img src=\"https://colab.research.google.com/assets/colab-badge.svg\" alt=\"Open In Colab\"/></a>"
      ]
    },
    {
      "cell_type": "markdown",
      "source": [
        "# 1009. Complement of Base 10 Integer"
      ],
      "metadata": {
        "id": "U1JRqncPBxM7"
      }
    },
    {
      "cell_type": "markdown",
      "source": [
        "The complement of an integer is the integer you get when you flip all the 0's to 1's and all the 1's to 0's in its binary representation.\n",
        "\n",
        "For example, The integer 5 is \"101\" in binary and its complement is \"010\" which is the integer 2.\n",
        "Given an integer n, return its complement."
      ],
      "metadata": {
        "id": "xXRzAozHB4tz"
      }
    },
    {
      "cell_type": "markdown",
      "source": [
        "## Example 1"
      ],
      "metadata": {
        "id": "AUyxJjYIB9Cw"
      }
    },
    {
      "cell_type": "markdown",
      "source": [
        "<pre>\n",
        "Input: n = 5\n",
        "Output: 2\n",
        "Explanation: 5 is \"101\" in binary, with complement \"010\" in binary, which is 2 in base-10.\n",
        "</pre>\n",
        "\n",
        "<pre>\n",
        "Input: n = 7\n",
        "Output: 0\n",
        "Explanation: 7 is \"111\" in binary, with complement \"000\" in binary, which is 0 in base-10.\n",
        "</pre>\n",
        "\n",
        "<pre>\n",
        "Input: n = 10\n",
        "Output: 5\n",
        "Explanation: 10 is \"1010\" in binary, with complement \"0101\" in binary, which is 5 in base-10.\n",
        "</pre>"
      ],
      "metadata": {
        "id": "EJFmjMvPCA2J"
      }
    },
    {
      "cell_type": "markdown",
      "source": [
        "## Code\n",
        "\n",
        "81% Faster in Runtime\n",
        "\n",
        "98% Memory Optimized"
      ],
      "metadata": {
        "id": "ZFuIdDWeCOoJ"
      }
    },
    {
      "cell_type": "code",
      "execution_count": 5,
      "metadata": {
        "id": "SFs-UznPBv3G"
      },
      "outputs": [],
      "source": [
        "# One Basic Approach\n",
        "class Solution1:\n",
        "    def bitwiseComplement(self, n: int) -> int:\n",
        "        # Debug\n",
        "        s = bin(n).split('b')[-1]\n",
        "        i = [str(int(not int(i))) for i in s]\n",
        "        return int(''.join(i), 2)"
      ]
    },
    {
      "cell_type": "markdown",
      "source": [
        "Below is the most optimized and fastest solution. ⬇⬇⬇\n",
        "\n",
        "---\n",
        "\n"
      ],
      "metadata": {
        "id": "yTAgOg8qKzP4"
      }
    },
    {
      "cell_type": "code",
      "source": [
        "# Smart Approach\n",
        "class Solution:\n",
        "    def bitwiseComplement(slef, n: int)-> int:\n",
        "        # debug\n",
        "        return 2**(len(bin(n))-2) -1 - n"
      ],
      "metadata": {
        "id": "QW9q6vkgJl5k"
      },
      "execution_count": 13,
      "outputs": []
    },
    {
      "cell_type": "code",
      "source": [
        "# Variable Iniitalization\n",
        "n = 10"
      ],
      "metadata": {
        "id": "aZUKR8qfC40B"
      },
      "execution_count": 14,
      "outputs": []
    },
    {
      "cell_type": "code",
      "source": [
        "# To run the the code\n",
        "s = Solution()\n",
        "print(s.bitwiseComplement(n))"
      ],
      "metadata": {
        "colab": {
          "base_uri": "https://localhost:8080/"
        },
        "id": "6TUU-DqDCc9b",
        "outputId": "354e71f9-419e-4373-c1d9-c223d4ef7c46"
      },
      "execution_count": 15,
      "outputs": [
        {
          "output_type": "stream",
          "name": "stdout",
          "text": [
            "5\n"
          ]
        }
      ]
    }
  ]
}