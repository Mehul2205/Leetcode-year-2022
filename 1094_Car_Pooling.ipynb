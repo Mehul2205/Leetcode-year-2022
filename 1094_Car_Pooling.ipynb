{
  "nbformat": 4,
  "nbformat_minor": 0,
  "metadata": {
    "colab": {
      "name": "1094. Car Pooling.ipynb",
      "provenance": [],
      "authorship_tag": "ABX9TyMc/kQCwIVMAD0LDvzBa8is",
      "include_colab_link": true
    },
    "kernelspec": {
      "name": "python3",
      "display_name": "Python 3"
    },
    "language_info": {
      "name": "python"
    }
  },
  "cells": [
    {
      "cell_type": "markdown",
      "metadata": {
        "id": "view-in-github",
        "colab_type": "text"
      },
      "source": [
        "<a href=\"https://colab.research.google.com/github/Mehul2205/Leetcode-year-2022/blob/main/1094_Car_Pooling.ipynb\" target=\"_parent\"><img src=\"https://colab.research.google.com/assets/colab-badge.svg\" alt=\"Open In Colab\"/></a>"
      ]
    },
    {
      "cell_type": "markdown",
      "source": [
        "# 1094. Car Pooling"
      ],
      "metadata": {
        "id": "GA84AD-m99tK"
      }
    },
    {
      "cell_type": "markdown",
      "source": [
        "There is a car with capacity empty seats. The vehicle only drives east (i.e., it cannot turn around and drive west).\n",
        "\n",
        "You are given the integer capacity and an array trips where trip[i] = [numPassengersi, fromi, toi] indicates that the ith trip has numPassengersi passengers and the locations to pick them up and drop them off are fromi and toi respectively. The locations are given as the number of kilometers due east from the car's initial location.\n",
        "\n",
        "Return true if it is possible to pick up and drop off all passengers for all the given trips, or false otherwise."
      ],
      "metadata": {
        "id": "WCf6K11j-FNB"
      }
    },
    {
      "cell_type": "markdown",
      "source": [
        "## Examples"
      ],
      "metadata": {
        "id": "u5N_AB5B-I4-"
      }
    },
    {
      "cell_type": "markdown",
      "source": [
        "<pre>\n",
        "Example - 1\n",
        "Input: trips = [[2,1,5],[3,3,7]], capacity = 4\n",
        "Output: false\n",
        "</pre>\n",
        "\n",
        "<pre>\n",
        "Example - 2\n",
        "Input: trips = [[2,1,5],[3,3,7]], capacity = 5\n",
        "Output: true\n",
        "</pre>\n",
        "\n",
        "<pre>\n",
        "Example - 3\n",
        "Input: trips = [[2,1,5],[4,5,7]], capacity = 5\n",
        "Output: true\n",
        "</pre>"
      ],
      "metadata": {
        "id": "p73iclav-LG0"
      }
    },
    {
      "cell_type": "markdown",
      "source": [
        "## Code\n",
        "\n",
        "6% Time Optimized\n",
        "\n",
        "52% Memory Optimized"
      ],
      "metadata": {
        "id": "nYuShB92pUEh"
      }
    },
    {
      "cell_type": "code",
      "execution_count": 1,
      "metadata": {
        "id": "QhlMZtHrmHw-"
      },
      "outputs": [],
      "source": [
        "class Solution:\n",
        "    def carPooling(self, trips: list(list()), capacity: int) -> bool:\n",
        "        trips.sort(key=lambda x:x[2])\n",
        "        trip = [0]*(trips[-1][2]+1)\n",
        "\n",
        "        for i in trips:\n",
        "            for j in range(i[1], i[2]):\n",
        "                trip[j] +=i[0] \n",
        "            if(max(trip)>capacity):\n",
        "                return False\n",
        "        return True"
      ]
    },
    {
      "cell_type": "code",
      "source": [
        "s = Solution()\n",
        "print(s.carPooling([[2,1,5],[3,3,7]], 4))\n",
        "print(s.carPooling([[2,1,5],[3,3,7]], 5))"
      ],
      "metadata": {
        "colab": {
          "base_uri": "https://localhost:8080/"
        },
        "id": "8lI8oVtj9n5C",
        "outputId": "cd624781-f679-43c5-a7a1-6aa54c9f7f1b"
      },
      "execution_count": 3,
      "outputs": [
        {
          "output_type": "stream",
          "name": "stdout",
          "text": [
            "False\n",
            "True\n"
          ]
        }
      ]
    },
    {
      "cell_type": "markdown",
      "source": [
        "## Time Optimized code"
      ],
      "metadata": {
        "id": "1v8w0cm09fIJ"
      }
    },
    {
      "cell_type": "code",
      "source": [
        "import itertools\n",
        "def carPooling(trips, capacity: int) -> bool:\n",
        "        stops = [0] * 1001\n",
        "        for n, i, j in trips:\n",
        "            stops[i] += n\n",
        "            stops[j] -= n\n",
        "        print(stops)\n",
        "        print(*itertools.accumulate(stops))\n",
        "        return all(x <= capacity for x in itertools.accumulate(stops))"
      ],
      "metadata": {
        "id": "bppZsafdqQ-d"
      },
      "execution_count": 16,
      "outputs": []
    },
    {
      "cell_type": "markdown",
      "source": [
        "## Memory Optimized Code"
      ],
      "metadata": {
        "id": "K3437A-u9Zsn"
      }
    },
    {
      "cell_type": "code",
      "source": [
        "import heapq\n",
        "class Solution:\n",
        "    def carPooling(self, trips: List[List[int]], capacity: int) -> bool:\n",
        "        trips.sort(key=lambda x: (x[1],x[2],x[0]))\n",
        "        heap = [] # end, to-be-released passengers\n",
        "        curr = 0\n",
        "        for num,start,end in trips:\n",
        "            while heap and heap[0][0] <= start:\n",
        "                curr -= heapq.heappop(heap)[1]\n",
        "                \n",
        "            curr += num\n",
        "            if curr > capacity:\n",
        "                return False\n",
        "            \n",
        "            heapq.heappush(heap,(end,num))\n",
        "        return True"
      ],
      "metadata": {
        "id": "KpxiwREvsr03"
      },
      "execution_count": null,
      "outputs": []
    }
  ]
}