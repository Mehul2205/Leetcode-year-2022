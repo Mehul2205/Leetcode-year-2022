{
  "nbformat": 4,
  "nbformat_minor": 0,
  "metadata": {
    "colab": {
      "name": "LeetCode-997-FindTheTownJudge.ipynb",
      "provenance": [],
      "toc_visible": true,
      "authorship_tag": "ABX9TyNiTa4GXeV57qBOwQZMh0Ox"
    },
    "kernelspec": {
      "name": "python3",
      "display_name": "Python 3"
    },
    "language_info": {
      "name": "python"
    }
  },
  "cells": [
    {
      "cell_type": "markdown",
      "source": [
        "# 997. Find the Town Judge"
      ],
      "metadata": {
        "id": "6jedpdMTcVOm"
      }
    },
    {
      "cell_type": "markdown",
      "source": [
        "## Problem Statement"
      ],
      "metadata": {
        "id": "7zMkvOGeo-Tv"
      }
    },
    {
      "cell_type": "markdown",
      "source": [
        "In a town, there are n people labeled from 1 to n. There is a rumor that one of these people is secretly the town judge.\n",
        "\n",
        "If the town judge exists, then:\n",
        "\n",
        "The town judge trusts nobody.\n",
        "Everybody (except for the town judge) trusts the town judge.\n",
        "There is exactly one person that satisfies properties 1 and 2.\n",
        "You are given an array trust where trust[i] = [ai, bi] representing that the person labeled ai trusts the person labeled bi.\n",
        "\n",
        "Return the label of the town judge if the town judge exists and can be identified, or return -1 otherwise."
      ],
      "metadata": {
        "id": "Fj177ScTcW0p"
      }
    },
    {
      "cell_type": "markdown",
      "source": [
        "## Examples -"
      ],
      "metadata": {
        "id": "LnuB_yJAdptK"
      }
    },
    {
      "cell_type": "markdown",
      "source": [
        "<pre>\n",
        "Example 1:\n",
        "\n",
        "Input: n = 2, trust = [[1,2]]\n",
        "Output: 2\n",
        "</pre>\n",
        "\n",
        "<pre>\n",
        "Example 2:\n",
        "\n",
        "Input: n = 3, trust = [[1,3],[2,3]]\n",
        "Output: 3\n",
        "</pre>\n",
        "\n",
        "<pre>\n",
        "Example 3:\n",
        "\n",
        "Input: n = 3, trust = [[1,3],[2,3],[3,1]]\n",
        "Output: -1\n",
        "</pre>"
      ],
      "metadata": {
        "id": "nb_JgXz2cbeL"
      }
    },
    {
      "cell_type": "markdown",
      "source": [
        "## My Code - \n",
        "* 88 % Time Optimized\n",
        "* 10 % Memory Optimized"
      ],
      "metadata": {
        "id": "juG60PgKd01q"
      }
    },
    {
      "cell_type": "code",
      "source": [
        "class Solution:\n",
        "    def findJudge(self, n: int, trust) -> int:\n",
        "        #For Debug\n",
        "        '''\n",
        "        Created by Mehul Patni\n",
        "        '''\n",
        "        # Final Code\n",
        "        if(len(trust) == 0):\n",
        "          if(n == 1):\n",
        "            return 1\n",
        "          return -1\n",
        "        sumOfNumbers = (n*(n+1))//2\n",
        "        columns = list(zip(*trust))\n",
        "        firstColumn = columns[0]\n",
        "        setOfFirstColumn = set(firstColumn)\n",
        "        mayBeTownJudge = sumOfNumbers - sum(setOfFirstColumn)\n",
        "        if(mayBeTownJudge == 0):\n",
        "          return -1\n",
        "        secondColumn = columns[1]\n",
        "        countOfMayBeTownJudge = secondColumn.count(mayBeTownJudge)\n",
        "        if(countOfMayBeTownJudge == n-1):\n",
        "          townJudge = mayBeTownJudge\n",
        "          return townJudge\n",
        "        return -1"
      ],
      "metadata": {
        "id": "SKB9h0BsdxO7"
      },
      "execution_count": 20,
      "outputs": []
    },
    {
      "cell_type": "code",
      "source": [
        "# Here is example 1 test case - \n",
        "numberOfPeoples = 1#4\n",
        "trustArray = [[1]]#[[1,2],[2,3], [4,3], [1,3]]"
      ],
      "metadata": {
        "id": "VDa-V5yseiwT"
      },
      "execution_count": 29,
      "outputs": []
    },
    {
      "cell_type": "code",
      "source": [
        "s = Solution()\n",
        "print(s.findJudge(numberOfPeoples,trustArray))"
      ],
      "metadata": {
        "colab": {
          "base_uri": "https://localhost:8080/"
        },
        "id": "RXmTxkhYeGL5",
        "outputId": "e029a559-1297-4638-bee4-e72c36fcb413"
      },
      "execution_count": 30,
      "outputs": [
        {
          "output_type": "stream",
          "name": "stdout",
          "text": [
            "1\n"
          ]
        }
      ]
    },
    {
      "cell_type": "markdown",
      "source": [
        "Thank you!\n",
        "Created by Mehul Patni"
      ],
      "metadata": {
        "id": "nNK5PjQFd7aS"
      }
    },
    {
      "cell_type": "markdown",
      "source": [
        "## Memory Optimized Solution"
      ],
      "metadata": {
        "id": "yQ4ZuGxuoBd9"
      }
    },
    {
      "cell_type": "code",
      "source": [
        "class Solution:\n",
        "    def findJudge(self, n: int, trust) -> int:\n",
        "        \n",
        "        people = [-1] + [0] * (n) \n",
        "        \n",
        "        for (source,target) in trust:\n",
        "            # trusts someone, cant be \n",
        "            people[source] = -1\n",
        "            \n",
        "            if people[target] != -1:\n",
        "                people[target] += 1 \n",
        "            \n",
        "        judges = [p for p, score in enumerate(people) if score==n-1]\n",
        "        \n",
        "        if len(judges) == 1:\n",
        "            return judges.pop()\n",
        "        else:\n",
        "            return -1 "
      ],
      "metadata": {
        "id": "HVx_-HQAoGF5"
      },
      "execution_count": null,
      "outputs": []
    },
    {
      "cell_type": "markdown",
      "source": [
        "## Fastest Solution - "
      ],
      "metadata": {
        "id": "54-Q1sMkn4J1"
      }
    },
    {
      "cell_type": "code",
      "source": [
        "class Solution:\n",
        "    def findJudge(self, n: int, trust) -> int:\n",
        "        result = [0 for i in range(n)]\n",
        "        for i in trust:\n",
        "            result[i[0]-1]-=1\n",
        "            result[i[1]-1]+=1\n",
        "        for i in range(n):\n",
        "            if (result[i] == n-1):\n",
        "                return i+1\n",
        "        return -1"
      ],
      "metadata": {
        "id": "S8fMfxNGn9V8"
      },
      "execution_count": null,
      "outputs": []
    }
  ]
}
